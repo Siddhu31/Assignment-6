{
 "cells": [
  {
   "cell_type": "markdown",
   "id": "bdc9b481",
   "metadata": {},
   "source": [
    "# Assignment-1"
   ]
  },
  {
   "cell_type": "markdown",
   "id": "4dd41587",
   "metadata": {},
   "source": [
    "# Create an assignment for File handling of JSON files in Python."
   ]
  },
  {
   "cell_type": "markdown",
   "id": "d1df0660",
   "metadata": {},
   "source": [
    "# 👉 1. Create a JSON file (employee.json) containing employee information of minimum 5 employees. Each employee information consists of Name, DOB, Height, City, State. Write a python program that reads this information from the JSON file and saves the information into a list of objects of Employee class. Finally print the list of the Employee objects."
   ]
  },
  {
   "cell_type": "code",
   "execution_count": 13,
   "id": "622df7bd",
   "metadata": {},
   "outputs": [
    {
     "name": "stdout",
     "output_type": "stream",
     "text": [
      "Data stored Successfully.\n"
     ]
    },
    {
     "data": {
      "text/plain": [
       "{'Employee Details': [{'Name': 'Siddhu',\n",
       "   'DOB': '17/4/1993',\n",
       "   'Height': 5.11,\n",
       "   'City': 'Guntur',\n",
       "   'State': 'Andhra Pradesh'},\n",
       "  {'Name': 'Chandu',\n",
       "   'DOB': '4/4/1997',\n",
       "   'Height': 5.8,\n",
       "   'City': 'Banglore',\n",
       "   'State': 'Karnataka'},\n",
       "  {'Name': 'Gnanesh',\n",
       "   'DOB': '21/9/1996',\n",
       "   'Height': 5.1,\n",
       "   'City': 'Kuppam',\n",
       "   'State': 'Tirupathi'},\n",
       "  {'Name': 'Jogii',\n",
       "   'DOB': '11/8/2000',\n",
       "   'Height': 5.11,\n",
       "   'City': 'Krishna',\n",
       "   'State': 'Vijayawada'},\n",
       "  {'Name': 'Sruthi',\n",
       "   'DOB': '19/12/1994',\n",
       "   'Height': 5.2,\n",
       "   'City': 'Hyderabad',\n",
       "   'State': 'Telangana'}]}"
      ]
     },
     "execution_count": 13,
     "metadata": {},
     "output_type": "execute_result"
    }
   ],
   "source": [
    "import json\n",
    "Employee  = {\"Employee Details\":[\n",
    "            {\"Name\":\"Siddhu\",\"DOB\":\"17/4/1993\",\"Height\":5.11,\"City\":\"Guntur\",\"State\":\"Andhra Pradesh\"},\n",
    "            {\"Name\":\"Chandu\",\"DOB\":\"4/4/1997\",\"Height\":5.8,\"City\":\"Banglore\",\"State\":\"Karnataka\"},\n",
    "            {\"Name\":\"Gnanesh\",\"DOB\":\"21/9/1996\",\"Height\":5.10,\"City\":\"Kuppam\",\"State\":\"Tirupathi\"},\n",
    "            {\"Name\":\"Jogii\",\"DOB\":\"11/8/2000\",\"Height\":5.11,\"City\":\"Krishna\",\"State\":\"Vijayawada\"},\n",
    "            {\"Name\":\"Sruthi\",\"DOB\":\"19/12/1994\",\"Height\":5.2,\"City\":\"Hyderabad\",\"State\":\"Telangana\"}\n",
    "            ]}\n",
    "\n",
    "\n",
    "with open(\"Staff.json\",\"w\")as f:\n",
    "    json.dump(Employee,f,indent=3)\n",
    "    \n",
    "print(\"Data stored Successfully.\")\n",
    "\n",
    "with open(\"Staff.json\",\"r\")as f:\n",
    "    x = json.load(f)\n",
    "    \n",
    "x    "
   ]
  },
  {
   "cell_type": "markdown",
   "id": "601f09e2",
   "metadata": {},
   "source": [
    "# 👉 2. Create a dictionary of any 7 Indian states and their capitals. Write this into a JSON file."
   ]
  },
  {
   "cell_type": "code",
   "execution_count": 4,
   "id": "cfd7f125",
   "metadata": {},
   "outputs": [
    {
     "name": "stdout",
     "output_type": "stream",
     "text": [
      "JSON File Successfully.\n"
     ]
    }
   ],
   "source": [
    "import json\n",
    "states_capitals={\"Andhra Pradesh\":\"Amaravathi\",\"Telangana\":\"Hyderabad\",\"Bengaluru\":\"Karnataka\",\"Tamilnadu\":\"Chennai\",\"Kerala\":\"Thiruvananthapuram\",\"West Bengal\":\"Kolkata\",\"Goa\":\"Panaji\"}\n",
    "\n",
    "with open(\"India.json\",\"w\")as f:\n",
    "    json.dump(states_capitals,f,indent=3)\n",
    "print(\"JSON File Successfully.\")"
   ]
  },
  {
   "cell_type": "markdown",
   "id": "d31ac16d",
   "metadata": {},
   "source": [
    "# Assignment 2"
   ]
  },
  {
   "cell_type": "markdown",
   "id": "c7e57319",
   "metadata": {},
   "source": [
    "# 👉 1. Create a class named ‘Dog’. It should have a constructor which accepts its name, age and coat color. You must perform the following operations:"
   ]
  },
  {
   "cell_type": "code",
   "execution_count": null,
   "id": "cd35eebd",
   "metadata": {},
   "outputs": [],
   "source": [
    "🔴 a. It should have a function ‘description()’ which prints the name and age of the dog.\n",
    "🔴 b. It should have a function ‘get_info()’ which prints the coat color of the dog.\n",
    "🔴 c. Create child classes ‘JackRussellTerrier’ and ‘Bulldog’ which is inherited from the class ‘Dog’. It should have at least two methods of its own.\n",
    "🔴 d. Create objects and implement the above functionalities."
   ]
  },
  {
   "cell_type": "code",
   "execution_count": 2,
   "id": "5a9d15ed",
   "metadata": {},
   "outputs": [
    {
     "name": "stdout",
     "output_type": "stream",
     "text": [
      "Dog Name is: Tommy\n",
      "Dog Age is: 3\n",
      "Dog Coat Color is: White & Black\n",
      "Dog Energy level: High\n",
      "Dog Favourite activity: Fetch\n",
      "----------------------------------------\n",
      "Dog Name is: Buddy\n",
      "Dog Age is: 5\n",
      "Dog Coat Color is: Cream\n",
      "Dog Lazy level is: High\n",
      "Dog Favourite food: Meat\n"
     ]
    }
   ],
   "source": [
    "class Dog:\n",
    "    def __init__(self, Name, Age, Coat_Color):\n",
    "        self.Name = Name\n",
    "        self.Age = Age\n",
    "        self.Coat_Color = Coat_Color\n",
    "\n",
    "    def description(self):\n",
    "        print(\"Dog Name is:\", self.Name)\n",
    "        print(\"Dog Age is:\", self.Age)\n",
    "\n",
    "    def get_info(self):\n",
    "        print(\"Dog Coat Color is:\",self.Coat_Color)\n",
    "\n",
    "class JackRussellTerrier(Dog):\n",
    "    def __init__(self, Name, Age, Coat_Color, energy_level, favorite_activity):\n",
    "        super().__init__(Name, Age, Coat_Color)\n",
    "        self.energy_level = energy_level\n",
    "        self.favorite_activity = favorite_activity\n",
    "    \n",
    "    def energy(self):\n",
    "        print(\"Dog Energy level:\",self.energy_level)\n",
    "    \n",
    "    def activity(self):\n",
    "        print(\"Dog Favourite activity:\",self.favorite_activity)\n",
    "        \n",
    "\n",
    "class Bulldog(Dog):\n",
    "    def __init__(self, Name, Age, Coat_Color, lazy_level, favorite_food):\n",
    "        super().__init__(Name, Age, Coat_Color)\n",
    "        self.lazy_level = lazy_level\n",
    "        self.favorite_food = favorite_food\n",
    "    \n",
    "    def laziness(self):\n",
    "        print(\"Dog Lazy level is:\",self.lazy_level)\n",
    "    \n",
    "    def food(self):\n",
    "        print(\"Dog Favourite food:\",self.favorite_food)\n",
    "\n",
    "D1 = JackRussellTerrier('Tommy', 3, 'White & Black', 'High', 'Fetch')\n",
    "D1.description()\n",
    "D1.get_info()\n",
    "D1.energy()\n",
    "D1.activity()\n",
    "\n",
    "print(\"-\"*40)\n",
    "\n",
    "D2 = Bulldog('Buddy', 5, 'Cream', 'High', 'Meat')\n",
    "D2.description()\n",
    "D2.get_info()\n",
    "D2.laziness()\n",
    "D2.food()"
   ]
  },
  {
   "cell_type": "code",
   "execution_count": null,
   "id": "65ebad88",
   "metadata": {},
   "outputs": [],
   "source": []
  }
 ],
 "metadata": {
  "kernelspec": {
   "display_name": "Python 3 (ipykernel)",
   "language": "python",
   "name": "python3"
  },
  "language_info": {
   "codemirror_mode": {
    "name": "ipython",
    "version": 3
   },
   "file_extension": ".py",
   "mimetype": "text/x-python",
   "name": "python",
   "nbconvert_exporter": "python",
   "pygments_lexer": "ipython3",
   "version": "3.9.13"
  }
 },
 "nbformat": 4,
 "nbformat_minor": 5
}
